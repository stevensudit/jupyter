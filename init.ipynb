{
 "cells": [
  {
   "cell_type": "code",
   "execution_count": null,
   "id": "685ced62",
   "metadata": {},
   "outputs": [
    {
     "name": "stdout",
     "output_type": "stream",
     "text": [
      "test\n"
     ]
    }
   ],
   "source": [
    "# Init\n",
    "\n",
    "# conda create -n fastai_env python=3.10 -y\n",
    "# conda activate fastai_env\n",
    "# conda install -y ipykernel\n",
    "# python -m ipykernel install --user --name fastai_env --display-name \"Python (fastai_env)\"\n",
    "# conda install -y pytorch torchvision torchaudio pytorch-cuda=12.1 -c pytorch -c nvidia\n",
    "# conda install -y numpy pandas matplotlib pillow scikit-learn\n",
    "# conda install -y -c conda-forge lxml\n",
    "# python -m pip install fastai==2.7.19 ddgs==9.6.0 primp h2 httpx fastdownload imagehash pillow-avif-plugin\n",
    "# python -m pip install \"duckduckgo-search==8.1.1\"\n",
    "# conda env export > environment.lock.yml\n",
    "# # then remove the prefix line at the end\n",
    "# conda env create -f environment.lock.yml\n",
    "# # conda env create -n fastai_env_clone -f environment.lock.yml\n",
    "# conda env update -n fastai_env -f environment.lock.yml --prune\n",
    "# conda env export --from-history > environment.yml\n",
    "# python -m pip install pip-chill\n",
    "# pip-chill > requirements-min.txt\n",
    "# # merge essentials from requirements-min.txt into environment.yml\n",
    "# pip install nbdime\n",
    "# nbdime config-git --enable\n"
   ]
  }
 ],
 "metadata": {
  "kernelspec": {
   "display_name": "fastai_env",
   "language": "python",
   "name": "python3"
  },
  "language_info": {
   "codemirror_mode": {
    "name": "ipython",
    "version": 3
   },
   "file_extension": ".py",
   "mimetype": "text/x-python",
   "name": "python",
   "nbconvert_exporter": "python",
   "pygments_lexer": "ipython3",
   "version": "3.10.18"
  }
 },
 "nbformat": 4,
 "nbformat_minor": 5
}
